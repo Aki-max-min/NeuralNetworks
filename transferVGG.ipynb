{
 "cells": [
  {
   "cell_type": "markdown",
   "metadata": {},
   "source": [
    "This code uses Transfer Learning with the VGG16 model to classify images in the CIFAR-10 dataset, a popular dataset containing small images of 10 different classes (e.g., airplane, automobile, bird). The code trains a custom classifier on top of VGG16 to identify these classes. "
   ]
  },
  {
   "cell_type": "markdown",
   "metadata": {},
   "source": [
    "TensorFlow and Keras: Used for building and training the neural network.\n",
    "VGG16: A pre-trained Convolutional Neural Network model.\n",
    "\n",
    "    Pre-trained on ImageNet, a dataset of over a million images across 1,000 classes.\n",
    "    Used here for transfer learning to save time and resources.\n",
    "\n",
    "CIFAR-10: The dataset being used.\n",
    "NumPy: For numerical operations.\n",
    "Matplotlib: For visualizing the images and predictions."
   ]
  },
  {
   "cell_type": "code",
   "execution_count": 24,
   "metadata": {},
   "outputs": [],
   "source": [
    "import tensorflow as tf\n",
    "from tensorflow.keras.applications import VGG16\n",
    "from tensorflow.keras import layers, models\n",
    "from tensorflow.keras.datasets import cifar10\n",
    "from tensorflow.keras.utils import to_categorical"
   ]
  },
  {
   "cell_type": "markdown",
   "metadata": {},
   "source": [
    "Loading the Data:\n",
    "\n",
    "    cifar10.load_data() loads the dataset:\n",
    "        Training set: x_train (images) and y_train (labels).\n",
    "        Test set: x_test (images) and y_test (labels).\n",
    "\n",
    "Scaling the Pixel Values:\n",
    "\n",
    "    Divide by 255.0 to normalize the pixel values to a range of 0-1 for better model performance.\n",
    "\n",
    "One-Hot Encoding the Labels:\n",
    "\n",
    "    to_categorical() converts labels like 3 into a vector: [0, 0, 0, 1, 0, 0, 0, 0, 0, 0].\n",
    "    CIFAR-10 has 10 classes, so each label becomes a vector of length 10."
   ]
  },
  {
   "cell_type": "code",
   "execution_count": 25,
   "metadata": {},
   "outputs": [
    {
     "name": "stdout",
     "output_type": "stream",
     "text": [
      "Downloading data from https://www.cs.toronto.edu/~kriz/cifar-10-python.tar.gz\n",
      "\u001b[1m170498071/170498071\u001b[0m \u001b[32m━━━━━━━━━━━━━━━━━━━━\u001b[0m\u001b[37m\u001b[0m \u001b[1m695s\u001b[0m 4us/step\n"
     ]
    }
   ],
   "source": [
    "(x_train, y_train), (x_test, y_test) = cifar10.load_data()"
   ]
  },
  {
   "cell_type": "code",
   "execution_count": 26,
   "metadata": {},
   "outputs": [],
   "source": [
    "x_train = x_train.astype('float32') / 255.0\n",
    "x_test = x_test.astype('float32') / 255.0\n",
    "y_train = to_categorical(y_train, 10)\n",
    "y_test = to_categorical(y_test, 10)\n"
   ]
  },
  {
   "cell_type": "markdown",
   "metadata": {},
   "source": [
    "VGG16:\n",
    "\n",
    "    weights='imagenet': Uses pre-trained weights from the ImageNet dataset.\n",
    "    include_top=False: Excludes the fully connected (classification) layers.\n",
    "    input_shape=(32, 32, 3): Adjusts the input shape to match CIFAR-10 images.\n",
    "\n",
    "Freezing the Base Model:\n",
    "\n",
    "    base_model.trainable = False: Prevents the pre-trained layers from being updated during training."
   ]
  },
  {
   "cell_type": "code",
   "execution_count": 27,
   "metadata": {},
   "outputs": [],
   "source": [
    "base_model = VGG16(weights='imagenet', include_top=False, input_shape=(32, 32, 3))\n"
   ]
  },
  {
   "cell_type": "code",
   "execution_count": 28,
   "metadata": {},
   "outputs": [],
   "source": [
    "base_model.trainable = False"
   ]
  },
  {
   "cell_type": "markdown",
   "metadata": {},
   "source": [
    "Adding Custom Classification Layers"
   ]
  },
  {
   "cell_type": "code",
   "execution_count": 29,
   "metadata": {},
   "outputs": [],
   "source": [
    "model = models.Sequential([\n",
    "    base_model,\n",
    "    layers.Flatten(),\n",
    "    layers.Dense(128, activation='relu'),\n",
    "    layers.Dense(10, activation='softmax')  # CIFAR-10 has 10 classes\n",
    "])"
   ]
  },
  {
   "cell_type": "markdown",
   "metadata": {},
   "source": [
    "Adam: Optimization algorithm to minimize the loss during training.\n",
    "categorical_crossentropy: Loss function for multi-class classification.\n",
    "accuracy: Metric to evaluate the model’s performance."
   ]
  },
  {
   "cell_type": "code",
   "execution_count": 30,
   "metadata": {},
   "outputs": [],
   "source": [
    "model.compile(optimizer='adam', loss='categorical_crossentropy', metrics=['accuracy'])\n"
   ]
  },
  {
   "cell_type": "code",
   "execution_count": 31,
   "metadata": {},
   "outputs": [
    {
     "name": "stdout",
     "output_type": "stream",
     "text": [
      "Epoch 1/2\n",
      "\u001b[1m1563/1563\u001b[0m \u001b[32m━━━━━━━━━━━━━━━━━━━━\u001b[0m\u001b[37m\u001b[0m \u001b[1m204s\u001b[0m 130ms/step - accuracy: 0.4652 - loss: 1.5373 - val_accuracy: 0.5501 - val_loss: 1.2706\n",
      "Epoch 2/2\n",
      "\u001b[1m1563/1563\u001b[0m \u001b[32m━━━━━━━━━━━━━━━━━━━━\u001b[0m\u001b[37m\u001b[0m \u001b[1m209s\u001b[0m 134ms/step - accuracy: 0.5802 - loss: 1.2021 - val_accuracy: 0.5805 - val_loss: 1.1969\n"
     ]
    },
    {
     "data": {
      "text/plain": [
       "<keras.src.callbacks.history.History at 0x7380045052b0>"
      ]
     },
     "execution_count": 31,
     "metadata": {},
     "output_type": "execute_result"
    }
   ],
   "source": [
    "model.fit(x_train, y_train, epochs=2, batch_size=32, validation_data=(x_test, y_test))\n"
   ]
  },
  {
   "cell_type": "code",
   "execution_count": 32,
   "metadata": {},
   "outputs": [
    {
     "name": "stdout",
     "output_type": "stream",
     "text": [
      "313/313 - 35s - 112ms/step - accuracy: 0.5805 - loss: 1.1969\n",
      "Test Accuracy: 0.58\n"
     ]
    }
   ],
   "source": [
    "test_loss, test_acc = model.evaluate(x_test, y_test, verbose=2)\n",
    "print(f\"Test Accuracy: {test_acc:.2f}\")"
   ]
  },
  {
   "cell_type": "code",
   "execution_count": 33,
   "metadata": {},
   "outputs": [],
   "source": [
    "from tensorflow.keras.utils import to_categorical\n",
    "import numpy as np\n",
    "import matplotlib.pyplot as plt\n"
   ]
  },
  {
   "cell_type": "code",
   "execution_count": 34,
   "metadata": {},
   "outputs": [],
   "source": [
    "class_names = [\n",
    "    'airplane', 'automobile', 'bird', 'cat', 'deer',\n",
    "    'dog', 'frog', 'horse', 'ship', 'truck'\n",
    "]"
   ]
  },
  {
   "cell_type": "markdown",
   "metadata": {},
   "source": [
    "random_index: Randomly selects an image from the test set.\n",
    "random_image: The selected test image.\n",
    "random_label: The true class of the image (converted back from one-hot encoding using np.argmax)."
   ]
  },
  {
   "cell_type": "code",
   "execution_count": 35,
   "metadata": {},
   "outputs": [],
   "source": [
    "random_index = np.random.randint(len(x_test))\n",
    "random_image = x_test[random_index]\n",
    "random_label = np.argmax(y_test[random_index]) "
   ]
  },
  {
   "cell_type": "markdown",
   "metadata": {},
   "source": [
    "np.expand_dims: Adds an extra dimension to match the model's input format: (1, 32, 32, 3).\n",
    "model.predict: Predicts the probabilities for each class.\n",
    "np.argmax: Finds the class with the highest probability."
   ]
  },
  {
   "cell_type": "code",
   "execution_count": 36,
   "metadata": {},
   "outputs": [
    {
     "name": "stdout",
     "output_type": "stream",
     "text": [
      "\u001b[1m1/1\u001b[0m \u001b[32m━━━━━━━━━━━━━━━━━━━━\u001b[0m\u001b[37m\u001b[0m \u001b[1m0s\u001b[0m 121ms/step\n"
     ]
    }
   ],
   "source": [
    "predicted_probabilities = model.predict(np.expand_dims(random_image, axis=0))\n",
    "predicted_class = np.argmax(predicted_probabilities)\n"
   ]
  },
  {
   "cell_type": "code",
   "execution_count": 37,
   "metadata": {},
   "outputs": [
    {
     "data": {
      "image/png": "[encoded data removed]",
      "text/plain": [
       "<Figure size 640x480 with 1 Axes>"
      ]
     },
     "metadata": {},
     "output_type": "display_data"
    }
   ],
   "source": [
    "plt.imshow(random_image)\n",
    "plt.title(f\"True: {class_names[random_label]}, Predicted: {class_names[predicted_class]}\")\n",
    "plt.axis('off')\n",
    "plt.show()\n"
   ]
  }
 ],
 "metadata": {
  "kernelspec": {
   "display_name": "ML",
   "language": "python",
   "name": "python3"
  },
  "language_info": {
   "codemirror_mode": {
    "name": "ipython",
    "version": 3
   },
   "file_extension": ".py",
   "mimetype": "text/x-python",
   "name": "python",
   "nbconvert_exporter": "python",
   "pygments_lexer": "ipython3",
   "version": "3.12.5"
  }
 },
 "nbformat": 4,
 "nbformat_minor": 2
}
